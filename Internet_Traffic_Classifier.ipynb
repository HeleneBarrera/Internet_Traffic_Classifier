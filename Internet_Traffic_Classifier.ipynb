{
 "cells": [
  {
   "cell_type": "markdown",
   "id": "5b14b394",
   "metadata": {},
   "source": [
    "---\n",
    "# <font color='blue'> Case Study 5 </font>\n",
    "\n",
    "\n",
    "## <font color='blue'>Group</font>\n",
    "* Helene Barrera\n",
    "* Sam Vonpaays Soh\n",
    "* Justin Ehly"
   ]
  },
  {
   "cell_type": "markdown",
   "id": "1f129956",
   "metadata": {},
   "source": [
    "## <font color='blue'>Business Understanding (5pts)</font>\n",
    "<br>\n",
    "The purpose of this case is to use an SVM and SGD model to predict the class of internet connections to a corporate firewall using historical connection data. In other words, the model should automatically decide whether to accept or deny internet traffic based on the variables and data provided. The goal of this model is to save the company manpower and resources that could be directed elsewhere. "
   ]
  },
  {
   "cell_type": "code",
   "execution_count": 1,
   "id": "53f2121b",
   "metadata": {},
   "outputs": [],
   "source": [
    "import os\n",
    "import numpy as np\n",
    "import pandas as pd\n",
    "import matplotlib.pyplot as plt\n",
    "import time\n",
    "import copy"
   ]
  },
  {
   "cell_type": "code",
   "execution_count": 2,
   "id": "1af22d46",
   "metadata": {},
   "outputs": [
    {
     "data": {
      "text/plain": [
       "'D:\\\\MS in Data Science\\\\Quantifying\\\\Case Study 5'"
      ]
     },
     "execution_count": 2,
     "metadata": {},
     "output_type": "execute_result"
    }
   ],
   "source": [
    "# justin's PC directory\n",
    "#os.chdir('C:\\\\Users\\\\justi\\\\Google Drive\\\\_SMU\\\\7333 - Quantifying the World\\\\Case Study 5')\n",
    "os.chdir('D:\\\\MS in Data Science\\\\Quantifying\\\\Case Study 5')\n",
    "os.getcwd()"
   ]
  },
  {
   "cell_type": "markdown",
   "id": "21be0c54",
   "metadata": {},
   "source": [
    "## <font color='blue'>Data Evaluation/ Engineering (10pts)\n",
    "</font>\n",
    "\n",
    "### Summary   \n",
    "The data provided consists of 65,531 observations of internet traffic data including whether each observation was allowed or denied by the company's firewall. There is no missing data in the set. A binary target variable was created from the action column (allow/deny). \n",
    "\n",
    "PCA was run along with a K-Means cluster as part of the EDA to determine if the data could be broken down into simpler groups, but the resulting clusters were not clearly defined and thus we decided to move forward without that component. \n",
    "\n",
    "All metrics of bytes and packets were highly correlated with each other (over 94%), so all variables pertaining to packets were removed (packets, pkts_sent and pkts_received) to avoid skewing the model. Additionally bytes (which represents sent + received) was highly correlated with bytes_sent (over 90%) and somewhat correlated with bytes_received, which makes sense because it's a metric derived from the other two metrics. Because of the high correlation and its relationship to the other two metrics, bytes was removed as well. \n",
    "\n",
    "Lastly, the port columns were examined closely to determine if a rule could be implemented such as \"always allow\" or \"always deny\" for certain port combinations. However, most of the ports had less than 30 occurances making any attempt to create rules for that subsection of the data unreliable. Since the remaining data contained less than 1% of the total occurances, it was not practical to further develop rules.  "
   ]
  },
  {
   "cell_type": "markdown",
   "id": "20f58f1b",
   "metadata": {},
   "source": [
    "#### Data clean up"
   ]
  },
  {
   "cell_type": "code",
   "execution_count": 3,
   "id": "2b857753",
   "metadata": {},
   "outputs": [],
   "source": [
    "# import the data\n",
    "web = pd.read_csv('log2.csv')\n",
    "\n",
    "# knowing that the original data has the first letter capitalized\n",
    "# make all column headers lower case\n",
    "cols = pd.Series(web.columns)\n",
    "cols = cols.str.lower()\n",
    "# repace spaces with underscores, remove [()] from (sec)\n",
    "cols.replace(regex=[' ','[()]'], value=['_',''], inplace=True)\n",
    "web.columns = cols"
   ]
  },
  {
   "cell_type": "code",
   "execution_count": 4,
   "id": "c032187a",
   "metadata": {},
   "outputs": [
    {
     "data": {
      "text/html": [
       "<div>\n",
       "<style scoped>\n",
       "    .dataframe tbody tr th:only-of-type {\n",
       "        vertical-align: middle;\n",
       "    }\n",
       "\n",
       "    .dataframe tbody tr th {\n",
       "        vertical-align: top;\n",
       "    }\n",
       "\n",
       "    .dataframe thead th {\n",
       "        text-align: right;\n",
       "    }\n",
       "</style>\n",
       "<table border=\"1\" class=\"dataframe\">\n",
       "  <thead>\n",
       "    <tr style=\"text-align: right;\">\n",
       "      <th></th>\n",
       "      <th>source_port</th>\n",
       "      <th>destination_port</th>\n",
       "      <th>nat_source_port</th>\n",
       "      <th>nat_destination_port</th>\n",
       "      <th>action</th>\n",
       "      <th>bytes</th>\n",
       "      <th>bytes_sent</th>\n",
       "      <th>bytes_received</th>\n",
       "      <th>packets</th>\n",
       "      <th>elapsed_time_sec</th>\n",
       "      <th>pkts_sent</th>\n",
       "      <th>pkts_received</th>\n",
       "    </tr>\n",
       "  </thead>\n",
       "  <tbody>\n",
       "    <tr>\n",
       "      <th>0</th>\n",
       "      <td>57222</td>\n",
       "      <td>53</td>\n",
       "      <td>54587</td>\n",
       "      <td>53</td>\n",
       "      <td>allow</td>\n",
       "      <td>177</td>\n",
       "      <td>94</td>\n",
       "      <td>83</td>\n",
       "      <td>2</td>\n",
       "      <td>30</td>\n",
       "      <td>1</td>\n",
       "      <td>1</td>\n",
       "    </tr>\n",
       "    <tr>\n",
       "      <th>1</th>\n",
       "      <td>56258</td>\n",
       "      <td>3389</td>\n",
       "      <td>56258</td>\n",
       "      <td>3389</td>\n",
       "      <td>allow</td>\n",
       "      <td>4768</td>\n",
       "      <td>1600</td>\n",
       "      <td>3168</td>\n",
       "      <td>19</td>\n",
       "      <td>17</td>\n",
       "      <td>10</td>\n",
       "      <td>9</td>\n",
       "    </tr>\n",
       "    <tr>\n",
       "      <th>2</th>\n",
       "      <td>6881</td>\n",
       "      <td>50321</td>\n",
       "      <td>43265</td>\n",
       "      <td>50321</td>\n",
       "      <td>allow</td>\n",
       "      <td>238</td>\n",
       "      <td>118</td>\n",
       "      <td>120</td>\n",
       "      <td>2</td>\n",
       "      <td>1199</td>\n",
       "      <td>1</td>\n",
       "      <td>1</td>\n",
       "    </tr>\n",
       "    <tr>\n",
       "      <th>3</th>\n",
       "      <td>50553</td>\n",
       "      <td>3389</td>\n",
       "      <td>50553</td>\n",
       "      <td>3389</td>\n",
       "      <td>allow</td>\n",
       "      <td>3327</td>\n",
       "      <td>1438</td>\n",
       "      <td>1889</td>\n",
       "      <td>15</td>\n",
       "      <td>17</td>\n",
       "      <td>8</td>\n",
       "      <td>7</td>\n",
       "    </tr>\n",
       "    <tr>\n",
       "      <th>4</th>\n",
       "      <td>50002</td>\n",
       "      <td>443</td>\n",
       "      <td>45848</td>\n",
       "      <td>443</td>\n",
       "      <td>allow</td>\n",
       "      <td>25358</td>\n",
       "      <td>6778</td>\n",
       "      <td>18580</td>\n",
       "      <td>31</td>\n",
       "      <td>16</td>\n",
       "      <td>13</td>\n",
       "      <td>18</td>\n",
       "    </tr>\n",
       "  </tbody>\n",
       "</table>\n",
       "</div>"
      ],
      "text/plain": [
       "   source_port  destination_port  nat_source_port  nat_destination_port  \\\n",
       "0        57222                53            54587                    53   \n",
       "1        56258              3389            56258                  3389   \n",
       "2         6881             50321            43265                 50321   \n",
       "3        50553              3389            50553                  3389   \n",
       "4        50002               443            45848                   443   \n",
       "\n",
       "  action  bytes  bytes_sent  bytes_received  packets  elapsed_time_sec  \\\n",
       "0  allow    177          94              83        2                30   \n",
       "1  allow   4768        1600            3168       19                17   \n",
       "2  allow    238         118             120        2              1199   \n",
       "3  allow   3327        1438            1889       15                17   \n",
       "4  allow  25358        6778           18580       31                16   \n",
       "\n",
       "   pkts_sent  pkts_received  \n",
       "0          1              1  \n",
       "1         10              9  \n",
       "2          1              1  \n",
       "3          8              7  \n",
       "4         13             18  "
      ]
     },
     "execution_count": 4,
     "metadata": {},
     "output_type": "execute_result"
    }
   ],
   "source": [
    "# no missing values based on the .info report\n",
    "web.head()"
   ]
  },
  {
   "cell_type": "code",
   "execution_count": 5,
   "id": "2aa839c1",
   "metadata": {},
   "outputs": [
    {
     "name": "stdout",
     "output_type": "stream",
     "text": [
      "['allow' 'drop' 'deny' 'reset-both']\n",
      "['allow' 'deny']\n",
      "Class distribution for target variable:\n",
      "\n",
      "allow    57.437588\n",
      "deny     42.562412\n",
      "Name: action, dtype: float64\n"
     ]
    }
   ],
   "source": [
    "# create the binary target variable\n",
    "print(web.action.unique())\n",
    "web.action = ['deny' if x in ['drop','deny', 'reset-both'] else 'allow' for x in web.action ]\n",
    "print(web.action.unique())\n",
    "\n",
    "print('Class distribution for target variable:\\n')\n",
    "print(web.action.value_counts(normalize=True)*100)"
   ]
  },
  {
   "cell_type": "code",
   "execution_count": 6,
   "id": "7f0a3f83",
   "metadata": {},
   "outputs": [],
   "source": [
    "# create X,y\n",
    "X = copy.deepcopy(web.drop(columns = ['action']))\n",
    "y = copy.deepcopy(web.action)\n"
   ]
  },
  {
   "cell_type": "markdown",
   "id": "fd73bc3d",
   "metadata": {},
   "source": [
    "#### PCA and KMeans Exploration"
   ]
  },
  {
   "cell_type": "code",
   "execution_count": 7,
   "id": "6083b667",
   "metadata": {},
   "outputs": [
    {
     "name": "stdout",
     "output_type": "stream",
     "text": [
      "[0.92974676 0.07023119]\n",
      "[1.78490627e+09 4.90566720e+08]\n",
      "Location: \t\t\t Class Label\n"
     ]
    },
    {
     "name": "stderr",
     "output_type": "stream",
     "text": [
      "C:\\Users\\Helene\\anaconda3\\envs\\ML7331\\lib\\site-packages\\sklearn\\base.py:324: UserWarning: Trying to unpickle estimator KMeans from version 0.24.2 when using version 1.0.1. This might lead to breaking code or invalid results. Use at your own risk. For more info please refer to:\n",
      "https://scikit-learn.org/stable/modules/model_persistence.html#security-maintainability-limitations\n",
      "  warnings.warn(\n",
      "C:\\Users\\Helene\\AppData\\Local\\Temp/ipykernel_35520/4245100250.py:58: UserWarning: color is redundantly defined by the 'color' keyword argument and the fmt string \"k.\" (-> color='k'). The keyword argument will take precedence.\n",
      "  ax.plot(reduced[i][0], reduced[i][1],'k.',\n"
     ]
    },
    {
     "data": {
      "image/png": "[encoded data removed]",
      "text/plain": [
       "<Figure size 504x504 with 1 Axes>"
      ]
     },
     "metadata": {
      "needs_background": "light"
     },
     "output_type": "display_data"
    },
    {
     "name": "stdout",
     "output_type": "stream",
     "text": [
      "\n"
     ]
    }
   ],
   "source": [
    "#'''\n",
    "#use PCA to reduce to 2 vectors\n",
    "#https://scikit-learn.org/stable/auto_examples/cluster/plot_kmeans_digits.html#sphx-glr-auto-examples-cluster-plot-kmeans-digits-py\n",
    "\n",
    "\n",
    "from sklearn.decomposition import PCA \n",
    "from sklearn.cluster import KMeans\n",
    "import pickle\n",
    "\n",
    "\n",
    "def pca_model(X,y):\n",
    "    # PCA\n",
    "    pca = PCA(n_components=2, random_state=42)\n",
    "    reduced = pca.fit_transform(X,y)\n",
    "    print(pca.explained_variance_ratio_)\n",
    "    print(pca.singular_values_)\n",
    "    pca.get_params()\n",
    "    return reduced\n",
    "\n",
    "clusters = 3\n",
    "\n",
    "def kmean_cluster(reduced, clusters):    \n",
    "    # KMeans\n",
    "    kmeans = KMeans(n_clusters=clusters, random_state=42) # set number of clusters\n",
    "    kmeans.get_params() # just curious what the params are\n",
    "    kmeans.fit(reduced) # fit kmeans\n",
    "    return kmeans, clusters\n",
    "\n",
    "reduced = pca_model(X,y)\n",
    "#kmeans = kmeans_cluster(reduced)\n",
    "\n",
    "\n",
    "filename1 = 'kmeans.pickle'\n",
    "filename2 = 'reduced.pickle'\n",
    "'''\n",
    "# write the pickle file\n",
    "outfile = open(filename1, 'wb')\n",
    "pickle.dump(kmeans, outfile)\n",
    "outfile.close()\n",
    "\n",
    "'''\n",
    "\n",
    "# load the pickle file\n",
    "infile = open(filename1, 'rb')\n",
    "kmeans = pickle.load(infile)\n",
    "infile.close()\n",
    "\n",
    "\n",
    "kmeans_group = kmeans.predict(reduced)\n",
    "labels = kmeans.labels_\n",
    "    \n",
    "# plot results\n",
    "fig, ax = plt.subplots(1,1, figsize=(7,7))\n",
    "colors = ['red','blue','green']\n",
    "ax.set_title('K-Means Clustering in %d Clusters' % clusters , size=15)\n",
    "print('Location:','\\t\\t\\t','Class Label')\n",
    "for i in range(len(reduced)):\n",
    "    ax.plot(reduced[i][0], reduced[i][1],'k.', \n",
    "            color = colors[labels[i]],\n",
    "            markersize=20)\n",
    "centroids = kmeans.cluster_centers_\n",
    "plt.scatter(centroids[:,0], centroids[:,1], marker='x', s=100, linewidths=3,\n",
    "            color='orange', zorder=10)\n",
    "plt.show()\n",
    "#'''\n",
    "print() # to keep the commented section from printing\n"
   ]
  },
  {
   "cell_type": "code",
   "execution_count": 8,
   "id": "3d8dd4d4",
   "metadata": {},
   "outputs": [
    {
     "name": "stdout",
     "output_type": "stream",
     "text": [
      "clusters  action\n",
      "0         allow     37636\n",
      "          deny      27892\n",
      "2         allow         3\n",
      "1         allow         1\n",
      "dtype: int64\n",
      "\n",
      "10220    allow\n",
      "40689    allow\n",
      "61429    allow\n",
      "63595    allow\n",
      "Name: action, dtype: object\n"
     ]
    }
   ],
   "source": [
    "clus = pd.DataFrame(kmeans.labels_, columns = ['clusters'])\n",
    "clus['action'] = copy.deepcopy(web.action)\n",
    "print(clus.value_counts())\n",
    "print()\n",
    "print(clus[(clus.clusters == 1) | (clus.clusters == 2)]['action'])\n",
    "# the clusting doesn't seem to show much in terms of the actions "
   ]
  },
  {
   "cell_type": "markdown",
   "id": "f79607a3",
   "metadata": {},
   "source": [
    "The 3 clusters are not very useful in practice since almost all the data is in group 0."
   ]
  },
  {
   "cell_type": "markdown",
   "id": "dfd28e18",
   "metadata": {},
   "source": [
    "#### Variable Correlation"
   ]
  },
  {
   "cell_type": "code",
   "execution_count": 9,
   "id": "23615ab1",
   "metadata": {
    "scrolled": false
   },
   "outputs": [
    {
     "data": {
      "image/png": "[encoded data removed]",
      "text/plain": [
       "<Figure size 720x720 with 2 Axes>"
      ]
     },
     "metadata": {
      "needs_background": "light"
     },
     "output_type": "display_data"
    }
   ],
   "source": [
    "#correlation plot\n",
    "import seaborn as sns\n",
    "import matplotlib.pyplot as plt\n",
    "corr = web.corr()\n",
    "matrix = np.triu(corr)\n",
    "\n",
    "\n",
    "f, ax = plt.subplots(figsize=(10,10))\n",
    "heatmap = sns.heatmap(corr, annot=False, mask=matrix, cmap='BrBG')\n",
    "heatmap.set_title('Correlation Columns', fontdict={'fontsize':18}, pad=16);\n",
    "plt.show()"
   ]
  },
  {
   "cell_type": "code",
   "execution_count": 10,
   "id": "06f32850",
   "metadata": {},
   "outputs": [],
   "source": [
    "web = web.drop(columns = ['packets', 'pkts_sent', 'pkts_received', 'bytes'])"
   ]
  },
  {
   "cell_type": "markdown",
   "id": "4bbce133",
   "metadata": {},
   "source": [
    "As explained in the section summary, 'packets', 'pkts_sent', 'pkts_received', and 'bytes' were removed due to collinearity issues. "
   ]
  },
  {
   "cell_type": "markdown",
   "id": "028d21fb",
   "metadata": {},
   "source": [
    "#### Ports and Rules"
   ]
  },
  {
   "cell_type": "code",
   "execution_count": 11,
   "id": "221b977e",
   "metadata": {},
   "outputs": [],
   "source": [
    "# change port columns to category\n",
    "web.iloc[:,0:4] = web.iloc[:,0:4].astype('category')"
   ]
  },
  {
   "cell_type": "code",
   "execution_count": 12,
   "id": "d2d761a6",
   "metadata": {},
   "outputs": [],
   "source": [
    "# how many times each unique port number appears in the dataset\n",
    "\n",
    "def port_counts(data, threshold):\n",
    "    # data: dataframe\n",
    "    # threshold: min nummber of times a port should appear in the dataset \n",
    "    feature_dist = {}\n",
    "    \n",
    "    # establish a threshold for how to split up the minority class of predictors \n",
    "    threshold = threshold\n",
    "    uc = 'unique count'\n",
    "    for feature in data.iloc[:,0:4]:\n",
    "        counts = data[feature].value_counts()\n",
    "        feature_dist[feature] = {uc + ' >= ' + str(threshold): counts[(counts >= threshold)].count(),\n",
    "                                 uc + ' < ' + str(threshold): counts[(counts < threshold)].count(),}\n",
    "     \n",
    "    return feature_dist\n",
    "\n",
    "def print_port_counts(data, threshold):\n",
    "    # prints out the port counts\n",
    "    feature_dist = port_counts(data, threshold)\n",
    "    print('How often unique port numbers appear in the dataset:')\n",
    "    print('Threshold: %d' % threshold)\n",
    "    print('---------------\\n')\n",
    "    \n",
    "    for key,value in feature_dist.items():\n",
    "        print(key , ':')\n",
    "        for i,j in value.items():\n",
    "            print('  ',i,':', j,'ports')\n",
    "        print('\\n---------------\\n')\n",
    "\n",
    "def assign_port_names(data, threshold):\n",
    "    # returns just dictionary of the port_names, keys = port_names\n",
    "    # port_names: dict of lists of the new port names for each port type\n",
    "    port_names_dict = {}\n",
    "    \n",
    "    # establish a threshold for how to split up the minority class of predictors \n",
    "    threshold = threshold\n",
    "    \n",
    "    for feature in data.iloc[:,0:4]:\n",
    "        counts = data[feature].value_counts()\n",
    "        \n",
    "        # use set comprehension to \n",
    "        port_names_dict[feature] = {port if counts[i] >= 30 else 'pooled_port' for i, port in enumerate(counts.index)}\n",
    "\n",
    "    return port_names_dict\n",
    "\n",
    "   "
   ]
  },
  {
   "cell_type": "code",
   "execution_count": 13,
   "id": "0aa368e1",
   "metadata": {},
   "outputs": [
    {
     "name": "stdout",
     "output_type": "stream",
     "text": [
      "How often unique port numbers appear in the dataset:\n",
      "Threshold: 30\n",
      "---------------\n",
      "\n",
      "source_port :\n",
      "   unique count >= 30 : 35 ports\n",
      "   unique count < 30 : 22689 ports\n",
      "\n",
      "---------------\n",
      "\n",
      "destination_port :\n",
      "   unique count >= 30 : 83 ports\n",
      "   unique count < 30 : 3190 ports\n",
      "\n",
      "---------------\n",
      "\n",
      "nat_source_port :\n",
      "   unique count >= 30 : 3 ports\n",
      "   unique count < 30 : 29149 ports\n",
      "\n",
      "---------------\n",
      "\n",
      "nat_destination_port :\n",
      "   unique count >= 30 : 24 ports\n",
      "   unique count < 30 : 2509 ports\n",
      "\n",
      "---------------\n",
      "\n"
     ]
    }
   ],
   "source": [
    "#Most of the ports have less than 30 occurances\n",
    "print_port_counts(web, 30)"
   ]
  },
  {
   "cell_type": "markdown",
   "id": "15ec4990",
   "metadata": {},
   "source": [
    "<b> A select few ports of each type get the majority of the traffic. It may be possible to create a rule for the more frequent ports."
   ]
  },
  {
   "cell_type": "code",
   "execution_count": 14,
   "id": "94e7432f",
   "metadata": {},
   "outputs": [],
   "source": [
    "ports = assign_port_names(web, 30)\n",
    "port_types = list(ports.keys())\n",
    "traffic = copy.deepcopy(web) # traffic = firewall traffic\n",
    "\n",
    "for type in port_types:\n",
    "    traffic[type] = [port if traffic[type][x] in ports[type] \n",
    "                     else 'pooled_port' for x, port in enumerate(traffic[type])]"
   ]
  },
  {
   "cell_type": "code",
   "execution_count": 15,
   "id": "3d42b718",
   "metadata": {},
   "outputs": [],
   "source": [
    "# create combinations of each port with accept/ deny\n",
    "import itertools\n",
    "from itertools import *\n",
    "\n",
    "port_action = np.array(copy.deepcopy(traffic[['source_port','destination_port',\n",
    "                                              'nat_source_port','nat_destination_port', 'action']]), str)\n",
    "\n",
    "# make a list of combinations of ports and the resulting action\n",
    "def combs(port_action):\n",
    "    iters = [list(combinations(list(port_action[i]),5)) for i in range(len(port_action))]\n",
    "    port_comb = [item for sublist in iters for item in sublist]\n",
    "    return port_comb\n",
    "\n",
    "# count the number of combinations\n",
    "def combs_list(port_action):\n",
    "    port_comb = combs(port_action)\n",
    "    port_comb = sorted(port_comb)\n",
    "    comb_counts = {}\n",
    "    for i in port_comb:\n",
    "        comb_counts[i] = port_comb.count(i)\n",
    "    comb_sorted = sorted(comb_counts.items(), key = lambda x:x[0], reverse = True)\n",
    "    return comb_sorted\n",
    "\n",
    "combs = combs(port_action)\n",
    "#comb_sorted = combs_list(port_action)\n",
    "\n",
    "\n"
   ]
  },
  {
   "cell_type": "code",
   "execution_count": 16,
   "id": "048a05b1",
   "metadata": {},
   "outputs": [],
   "source": [
    "#pickle results of last cell\n",
    "import pickle\n",
    "\n",
    "filename = 'port_combinations_sorted.pickle'\n",
    "'''# write the pickle file\n",
    "outfile = open(filename, 'wb')\n",
    "pickle.dump(comb_sorted, outfile)\n",
    "outfile.close()\n",
    "'''\n",
    "\n",
    "# load the pickle file\n",
    "infile = open(filename, 'rb')\n",
    "comb_sorted = pickle.load(infile)\n",
    "infile.close()"
   ]
  },
  {
   "cell_type": "code",
   "execution_count": 17,
   "id": "5f51d8c7",
   "metadata": {},
   "outputs": [],
   "source": [
    "# resort because the pickled file was sorted by the number of occurences and not by the order of the combination\n",
    "comb_sorted = sorted(comb_sorted, key = lambda x:x[0], reverse = True)\n",
    "\n",
    "# explore the combinations of ports used more than 30x to see if there are any that are always allow or deny\n",
    "combination_rules = [x for x in comb_sorted if ('pooled_port' not in x[0]) and (x[1] >= 30)]\n",
    "combination_rules = combination_rules[0:9]\n",
    "#combination_rules\n",
    "# any time we have these combinations of ports we know how to automatically set the action without the need to model\n",
    "\n",
    "# just remove the 4 combination sets\n",
    "comb_to_match = [x[0][0:4] for x in combination_rules]"
   ]
  },
  {
   "cell_type": "code",
   "execution_count": 18,
   "id": "e3e2ce97",
   "metadata": {},
   "outputs": [
    {
     "data": {
      "text/plain": [
       "[(('6881', '6881', '0', '0', 'deny'), 32),\n",
       " (('58638', '5900', '58638', '5900', 'allow'), 50),\n",
       " (('58638', '5900', '0', '0', 'deny'), 789),\n",
       " (('5588', '5588', '0', '0', 'allow'), 87),\n",
       " (('48706', '23393', '0', '0', 'deny'), 44),\n",
       " (('45941', '23386', '0', '0', 'deny'), 53),\n",
       " (('3478', '61463', '0', '0', 'deny'), 104),\n",
       " (('19875', '30170', '0', '0', 'deny'), 31),\n",
       " (('13285', '29892', '0', '0', 'deny'), 30)]"
      ]
     },
     "execution_count": 18,
     "metadata": {},
     "output_type": "execute_result"
    }
   ],
   "source": [
    "combination_rules"
   ]
  },
  {
   "cell_type": "markdown",
   "id": "4e2fafbe",
   "metadata": {},
   "source": [
    "As stated in the summary section, very few of the ports have enough observations (1k out of 65k) to create any sort of rule, therefore we will continue without forming rules. "
   ]
  },
  {
   "cell_type": "code",
   "execution_count": null,
   "id": "2eb9610f",
   "metadata": {},
   "outputs": [],
   "source": []
  },
  {
   "cell_type": "markdown",
   "id": "2f3e8665",
   "metadata": {},
   "source": [
    "## <font color='blue'>Modeling Preparations (10pts)</font>\n",
    "   \n",
    "- <b>Which methods are you proposing to utilize to solve the problem?</b><br>\n",
    "We will build a Support Vector Machine (SVM) assisted by the use of Stochastic Gradient Descent (SGD). The purpose of SVM is to draw a line/hyperplane between classes with as much separation as possible, while SGD is an optimization function that can help us converge on the best model more efficiently. Due to the way it runs (training on every data point), SVM is not ideal for large datasets as it is computationally expensive. Using SGD allows us to still get the benefits of SVM, but in a way that scales for large data sets. By running SGD classifier with a hinge loss, we are using the efficiency of SGD to find the best hyperplane quickly. \n",
    "   \n",
    "   \n",
    "- <b>Why is this method important based on the business objective?</b><br>\n",
    "It is important for the business to be able to run the model quickly and frequently because of the constant and massive amount of incoming data. Additionally, the accuracy should be comparable to what a SVM would produce. \n",
    "   \n",
    "   \n",
    "- <b>How will we determine if this approach is useful? </b><br>\n",
    "The approach will be the most useful if it can reduce or preferably eliminate bad ports being allowed through the firewall. A secondary goal would be to minimize the number of good ports that are blocked by the firewall. \n",
    "   \n",
    "   \n",
    "- <b>What evaluation metrics are most useful or requested by the client and do you have any suggestions on additional metrics to consider? (Acc, Recall, Prec, F-1 Score, ROC, AUC, etc)</b><br>\n",
    "The client specified accuracy as their primary interest, but number of false positives will also be important since the consequences of allowing a bad port though could be high. Additionally the client desired a fast and efficient model, so the time it takes to run will be taken into account. "
   ]
  },
  {
   "cell_type": "markdown",
   "id": "0c0bd5e6",
   "metadata": {},
   "source": [
    "## <font color='blue'> Model Building & Evaluation (60pts)</font>\n",
    "In this case, the primary task is to use SVM and SGD to build a model to determine whether or not to accept or deny access to internet requests coming across a network and will involve the following steps:      \n",
    "\n",
    "   \n",
    "-<b> Specify sampling methodology</b>   \n",
    "We will use an 80/20 stratified shuffle split with 5 folds that are used for cross validation later. \n",
    "<br><br>       \n",
    "\n",
    "-<b> Setup models</b>    \n",
    "For our basic SVC model, the most important parameters are the kernal and C. For the kernal, we basically just needed to specify the type of kernal to use which in this case we chose Linear. C represents the trade-off between having a wide margin between the classes and potentially misclassifying something due to that wide margin. (Or conversely a small margin which doesn't differentiate the classes particularly well. \n",
    "\n",
    "For our SVM with SGD, there are a lot more parameters to adjust (which could be a pro or con depending on the user and situation). The most important parameter here is the loss funtion, which must be set to hinge in order to run like a SVM. The hinge loss function will maximize the distance between classes, just like the SVM. The penalty and alpha work together as a regularization term to ensure the model doesn't overfit. Typically an l2 penalty is applied and the alpha is adjusted in smaller increments. l1_ratio must be set to 0 for an l2 penalty but the default is .15 so this must be done manually. Most other parameters such as fit_intercept, learning_rate, and n_jobs are functional as their default settings but could be adjusted in specific scenarios.\n",
    "<br><br>\n",
    "\n",
    "-<b> Analyze the models' performance</b>     \n",
    "Both models were highly accurate (99.8% for the SVC and 99.6% for the SGD). However, the SVC took 39.6 seconds to run, while the SGD took only .12 seconds. In other words, the SVC took 330 times as long to run as the SGD model, while only granting a .2% improvement on accuracy. Looking at false positives, the both models performed practically the same - the SGD allowing 18 bad ports past the firewall compared to the 17 of the SVM model. Out of 65k total observations, those numbers are tiny. For the massive increase in efficiancy which will allow for scalability with very little trade-off of accuracy and false positives, the SGV is the clear winner here. "
   ]
  },
  {
   "cell_type": "code",
   "execution_count": 19,
   "id": "f461662d",
   "metadata": {},
   "outputs": [],
   "source": [
    "from sklearn.model_selection import StratifiedShuffleSplit\n",
    "from sklearn.preprocessing import StandardScaler, LabelEncoder\n",
    "\n",
    "cv = StratifiedShuffleSplit(n_splits = 5, test_size = 0.2, random_state = 42)\n",
    "\n",
    "def sss(X,y): \n",
    "    for train_idx, test_idx in cv.split(X,y):\n",
    "        X_train, X_test = X.loc[train_idx], X.loc[test_idx]\n",
    "        y_train, y_test = y.loc[train_idx], y.loc[test_idx]\n",
    "    return X_train, X_test, y_train, y_test\n",
    "\n",
    "\n",
    "def scaler(X_train, X_test):\n",
    "    # scale int data\n",
    "    scaler = StandardScaler()\n",
    "    scaler.fit(X_train)\n",
    "    scaler.transform(X_train)\n",
    "    scaler.transform(X_test)\n",
    "    return X_train, X_test\n",
    "\n",
    "def encoder(y_train, y_test):\n",
    "    encoder = LabelEncoder()\n",
    "    encoder.fit(y_train)\n",
    "    encoder.transform(y_train)\n",
    "    encoder.transform(y_test)\n",
    "    return y_train, y_test"
   ]
  },
  {
   "cell_type": "code",
   "execution_count": 20,
   "id": "64692a95",
   "metadata": {
    "scrolled": true
   },
   "outputs": [
    {
     "name": "stdout",
     "output_type": "stream",
     "text": [
      "(52425, 7) (13107, 7)\n"
     ]
    }
   ],
   "source": [
    "#split the data\n",
    "# create X,y\n",
    "X = copy.deepcopy(web.drop(columns = ['action']))\n",
    "y = copy.deepcopy(web.action)\n",
    "\n",
    "X_train, X_test, y_train, y_test = sss(X, y) # Strat_Shuffle_Split\n",
    "X_train, X_test = scaler(X_train, X_test) # standardScaler\n",
    "\n",
    "print(X_train.shape, X_test.shape)"
   ]
  },
  {
   "cell_type": "markdown",
   "id": "08f96dea",
   "metadata": {},
   "source": [
    "### SVC MODEL"
   ]
  },
  {
   "cell_type": "code",
   "execution_count": 21,
   "id": "2bd89480",
   "metadata": {},
   "outputs": [
    {
     "name": "stdout",
     "output_type": "stream",
     "text": [
      "SVC Model\n",
      "Accuracy: 0.9983978027008469\n",
      "Training Time: 40.01999759674072\n",
      "\n",
      "Confusion Matrix:\n",
      "       allow  deny\n",
      "allow   7511    17\n",
      "deny       4  5575\n"
     ]
    }
   ],
   "source": [
    "from sklearn.svm import SVC\n",
    "from sklearn.model_selection import cross_val_score\n",
    "from sklearn.metrics import accuracy_score, confusion_matrix\n",
    "import time\n",
    "\n",
    "# run the model as linear to get best features\n",
    "start = time.time()\n",
    "svc_model = SVC(C=1, kernel='linear', random_state = 42).fit(X_train, y_train)\n",
    "stop = time.time()\n",
    "\n",
    "svc_predictions = svc_model.predict(X_test)\n",
    "svc_acc = accuracy_score(y_test, svc_predictions)\n",
    "\n",
    "\n",
    "print('SVC Model')\n",
    "print('Accuracy:', svc_acc)   \n",
    "print(f\"Training Time: {stop-start}\")\n",
    "print()\n",
    "print('Confusion Matrix:')\n",
    "print(pd.DataFrame(confusion_matrix(y_test, svc_predictions, labels=['allow', 'deny']),\n",
    "            columns=['allow', 'deny'],\n",
    "            index=['allow', 'deny']))"
   ]
  },
  {
   "cell_type": "markdown",
   "id": "db0174ed",
   "metadata": {},
   "source": [
    "### SVM MODEL WITH SGD"
   ]
  },
  {
   "cell_type": "code",
   "execution_count": 22,
   "id": "ea62fc27",
   "metadata": {},
   "outputs": [
    {
     "name": "stdout",
     "output_type": "stream",
     "text": [
      "SVM with SGD\n",
      "Accuracy: 0.9961852445258259\n",
      "Training Time: 0.12602829933166504\n",
      "\n",
      "Confusion Matrix:\n",
      "       allow  deny\n",
      "allow   7510    18\n",
      "deny      32  5547\n"
     ]
    }
   ],
   "source": [
    "from sklearn.linear_model import SGDClassifier\n",
    "\n",
    "regularize_const = 0.1\n",
    "iterations = 5\n",
    "\n",
    "\n",
    "start = time.time()\n",
    "svm_sgd = SGDClassifier(loss='hinge', penalty='l2', alpha=0.1,\n",
    "        fit_intercept=True, l1_ratio=0.0, random_state = 42)\n",
    "svm_sgd.fit(X_train,y_train)\n",
    "stop = time.time()\n",
    "\n",
    "\n",
    "y_hat = svm_sgd.predict(X_test)  \n",
    "acc = accuracy_score(y_test,y_hat)\n",
    "\n",
    "print('SVM with SGD')\n",
    "print('Accuracy:', acc)\n",
    "print(f\"Training Time: {stop-start}\")\n",
    "print()\n",
    "print('Confusion Matrix:')\n",
    "print(pd.DataFrame(confusion_matrix(y_test, y_hat, labels=['allow', 'deny']),\n",
    "            columns=['allow', 'deny'],\n",
    "            index=['allow', 'deny']))"
   ]
  },
  {
   "cell_type": "markdown",
   "id": "7a8f7741",
   "metadata": {},
   "source": [
    "#### ROC CURVE"
   ]
  },
  {
   "cell_type": "code",
   "execution_count": 30,
   "id": "e27f31ff",
   "metadata": {},
   "outputs": [],
   "source": [
    "le = LabelEncoder().fit(y_test)\n",
    "y_test_bi = le.transform(y_test)\n",
    "\n",
    "le = LabelEncoder().fit(y_test)\n",
    "y_hat_bi = label_encoder.transform(y_hat)"
   ]
  },
  {
   "cell_type": "code",
   "execution_count": 31,
   "id": "6e6a7561",
   "metadata": {},
   "outputs": [
    {
     "data": {
      "image/png": "[encoded data removed]",
      "text/plain": [
       "<Figure size 720x720 with 1 Axes>"
      ]
     },
     "metadata": {
      "needs_background": "light"
     },
     "output_type": "display_data"
    }
   ],
   "source": [
    "#the metrics are all showing as 1 due to high performance\n",
    "from sklearn.metrics import RocCurveDisplay\n",
    "fig, ax = plt.subplots(1,1,figsize=(10,10))\n",
    "\n",
    "RocCurveDisplay.from_predictions(y_test_bi, y_hat_bi, ax=ax)\n",
    "ax.set_title('ROC Curve for SVM in SGD')\n",
    "plt.show() "
   ]
  },
  {
   "cell_type": "markdown",
   "id": "5d384665",
   "metadata": {},
   "source": [
    "## <font color='blue'>Case Conclusions (10pts)</font>\n",
    "- <b>After all of your technical analysis and modeling; what are you proposing to your audience and why?</b>   \n",
    "Because both models are highly accurate and SGD runs over 300 times faster than SVC with almost no trade-offs, it's clear the management should implement the SGV model. It runs quickly, it's easy to adjust and fine tune parameters to quickly react to new data. It's highly scalable and not resource intensive.  <br><br>\n",
    "\n",
    "- <b>How should they view your results and what should they consider when moving forward?</b>  \n",
    "These results are very conclusive and accurate. There is room for improvement but the gains vs the amount of resources expended would see diminishing returns.  <br><br>\n",
    "  \n",
    "- <b>Are there other approaches you'd recommend exploring?</b>  \n",
    "If the management is set on having 0 errors when it comes to allowing bad ports through the firewall, there are avenues that could be explored. A GridSearch could be used that chooses the optimal parameters based on minimizing false positives. Additionally, the rules avenue could be pursued further - although it would be time consuming, it could possibly help to reduce those last few false positives. <br><br>\n",
    "\n",
    "- <b>This is where you \"bring it all home\" in language they understand.</b>   \n",
    "It's not every day a model has such high metrics and runs so quickly. Management should definitely jump on this opportunity to boost the speed and efficiancy of their company. \n",
    "\n"
   ]
  },
  {
   "cell_type": "code",
   "execution_count": null,
   "id": "e78461ac",
   "metadata": {},
   "outputs": [],
   "source": []
  }
 ],
 "metadata": {
  "kernelspec": {
   "display_name": "Python 3 (ipykernel)",
   "language": "python",
   "name": "python3"
  },
  "language_info": {
   "codemirror_mode": {
    "name": "ipython",
    "version": 3
   },
   "file_extension": ".py",
   "mimetype": "text/x-python",
   "name": "python",
   "nbconvert_exporter": "python",
   "pygments_lexer": "ipython3",
   "version": "3.8.8"
  }
 },
 "nbformat": 4,
 "nbformat_minor": 5
}
